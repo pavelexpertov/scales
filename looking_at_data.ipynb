{
  "cells": [
    {
      "cell_type": "code",
      "source": [
        "import numpy as np\n",
        "import matplotlib.pyplot as plt\n",
        "import pandas as pd\n",
        "import seaborn as sns\n",
        "\n",
        "sns.set()\n",
        "\n",
        "# The dataset is from https://archive.ics.uci.edu/ml/datasets/Balance+Scale\n",
        "\n",
        "#"
      ],
      "outputs": [],
      "execution_count": null,
      "metadata": {
        "collapsed": true,
        "outputExpanded": false,
        "jupyter": {
          "source_hidden": false,
          "outputs_hidden": false
        },
        "nteract": {
          "transient": {
            "deleting": false
          }
        }
      }
    },
    {
      "cell_type": "code",
      "source": [
        "d = pd.read_csv('balance-scale.data', header=None, names=['C','LW','LD','RW','RD'])\n",
        "d\n",
        "\n",
        "#"
      ],
      "outputs": [],
      "execution_count": null,
      "metadata": {
        "collapsed": true,
        "outputExpanded": false,
        "jupyter": {
          "source_hidden": false,
          "outputs_hidden": false
        },
        "nteract": {
          "transient": {
            "deleting": false
          }
        }
      }
    },
    {
      "cell_type": "markdown",
      "source": [
        "Looks like total number of examples is here.\n",
        "\n"
      ],
      "metadata": {
        "nteract": {
          "transient": {
            "deleting": false
          }
        }
      }
    },
    {
      "cell_type": "code",
      "source": [
        "d.describe()\n",
        "\n",
        "#"
      ],
      "outputs": [],
      "execution_count": null,
      "metadata": {
        "collapsed": true,
        "outputExpanded": false,
        "jupyter": {
          "source_hidden": false,
          "outputs_hidden": false
        },
        "nteract": {
          "transient": {
            "deleting": false
          }
        }
      }
    },
    {
      "cell_type": "code",
      "source": [
        "d.C.describe()\n",
        "#"
      ],
      "outputs": [],
      "execution_count": null,
      "metadata": {
        "collapsed": true,
        "outputExpanded": false,
        "jupyter": {
          "source_hidden": false,
          "outputs_hidden": false
        },
        "nteract": {
          "transient": {
            "deleting": false
          }
        }
      }
    },
    {
      "cell_type": "markdown",
      "source": [
        "It looks like there's no discrepencies with values\n",
        "(i.e. all values seem to be in range of 1 to 5 inclusive).\n",
        "\n",
        "Let's draw some graphs.\n",
        "\n"
      ],
      "metadata": {
        "nteract": {
          "transient": {
            "deleting": false
          }
        }
      }
    },
    {
      "cell_type": "code",
      "source": [
        "sns.relplot(x=\"LD\", y=\"RD\", hue=\"C\", data=d)\n",
        "# plt.savefig('distance.png')\n",
        "\n",
        "\n",
        "#"
      ],
      "outputs": [],
      "execution_count": null,
      "metadata": {
        "collapsed": true,
        "outputExpanded": false,
        "jupyter": {
          "source_hidden": false,
          "outputs_hidden": false
        },
        "nteract": {
          "transient": {
            "deleting": false
          }
        }
      }
    },
    {
      "cell_type": "code",
      "source": [
        "sns.relplot(x=\"LD\", y=\"RW\", hue=\"C\", data=d)\n",
        "# plt.savefig('left_distance_right_weight.png')\n",
        "\n",
        "\n",
        "#"
      ],
      "outputs": [],
      "execution_count": null,
      "metadata": {
        "collapsed": true,
        "outputExpanded": false,
        "jupyter": {
          "source_hidden": false,
          "outputs_hidden": false
        },
        "nteract": {
          "transient": {
            "deleting": false
          }
        }
      }
    },
    {
      "cell_type": "code",
      "source": [
        "sns.relplot(x=\"LW\", y=\"RW\", hue=\"C\", data=d)\n",
        "# plt.savefig('weight.png')\n",
        "\n",
        "#"
      ],
      "outputs": [],
      "execution_count": null,
      "metadata": {
        "collapsed": true,
        "outputExpanded": false,
        "jupyter": {
          "source_hidden": false,
          "outputs_hidden": false
        },
        "nteract": {
          "transient": {
            "deleting": false
          }
        }
      }
    },
    {
      "cell_type": "code",
      "source": [
        "sns.relplot(x=\"LW\", y=\"RD\", hue=\"C\", data=d)\n",
        "# plt.savefig('left_weight_right_distance.png')\n",
        "\n",
        "#"
      ],
      "outputs": [],
      "execution_count": null,
      "metadata": {
        "collapsed": true,
        "outputExpanded": false,
        "jupyter": {
          "source_hidden": false,
          "outputs_hidden": false
        },
        "nteract": {
          "transient": {
            "deleting": false
          }
        }
      }
    },
    {
      "cell_type": "markdown",
      "source": [
        "By looking at these graphs, it looks like values are proportianally distributed\n",
        "whether it's against the same attributes or not.\n",
        "\n",
        "Will need to do two things:\n",
        "1. Need to run some models to see that the proportionality of the height and weight will make a very accurate model.\n",
        "2. Need to find a way to show percentages of classes for each intersecting point (no point -- the classes do not have duplicate samples. Thus no noise.)\n",
        "to see whether there could be noise for the classes.\n",
        "\n",
        "\n"
      ],
      "metadata": {
        "nteract": {
          "transient": {
            "deleting": false
          }
        }
      }
    },
    {
      "cell_type": "markdown",
      "source": [
        "After running some models and concluding results about their accuricies. I wondered what kind of data I am dealing with.\n",
        "\n"
      ],
      "metadata": {
        "nteract": {
          "transient": {
            "deleting": false
          }
        }
      }
    },
    {
      "cell_type": "code",
      "source": [
        "d[d.C == 'B'].describe()\n",
        "#"
      ],
      "outputs": [],
      "execution_count": null,
      "metadata": {
        "collapsed": true,
        "outputExpanded": false,
        "jupyter": {
          "source_hidden": false,
          "outputs_hidden": false
        },
        "nteract": {
          "transient": {
            "deleting": false
          }
        }
      }
    },
    {
      "cell_type": "code",
      "source": [
        "samples = d[d.C == 'B'].loc[:, ['LW', 'RW', 'LD', 'RD']].to_numpy()\n",
        "s = set([tuple(array) for array in samples])\n",
        "print('Sum of items:', len(s))\n",
        "# Looks like there are unique values for the Balanced class\n",
        "\n",
        "#"
      ],
      "outputs": [],
      "execution_count": null,
      "metadata": {
        "collapsed": true,
        "outputExpanded": false,
        "jupyter": {
          "source_hidden": false,
          "outputs_hidden": false
        },
        "nteract": {
          "transient": {
            "deleting": false
          }
        }
      }
    },
    {
      "cell_type": "code",
      "source": [
        "d[d.C == 'L'].describe()\n",
        "\n",
        "#"
      ],
      "outputs": [],
      "execution_count": null,
      "metadata": {
        "collapsed": true,
        "outputExpanded": false,
        "jupyter": {
          "source_hidden": false,
          "outputs_hidden": false
        },
        "nteract": {
          "transient": {
            "deleting": false
          }
        }
      }
    },
    {
      "cell_type": "code",
      "source": [
        "samples = d[d.C == 'L'].loc[:, ['LW', 'RW', 'LD', 'RD']].to_numpy()\n",
        "s = set([tuple(array) for array in samples])\n",
        "print('Sum of items:', len(s))\n",
        "# Looks like there are unique values for the Left class.\n",
        "\n",
        "#"
      ],
      "outputs": [],
      "execution_count": null,
      "metadata": {
        "collapsed": true,
        "outputExpanded": false,
        "jupyter": {
          "source_hidden": false,
          "outputs_hidden": false
        },
        "nteract": {
          "transient": {
            "deleting": false
          }
        }
      }
    },
    {
      "cell_type": "code",
      "source": [
        "d[d.C == 'R'].describe()\n",
        "\n",
        "#"
      ],
      "outputs": [],
      "execution_count": null,
      "metadata": {
        "collapsed": true,
        "outputExpanded": false,
        "jupyter": {
          "source_hidden": false,
          "outputs_hidden": false
        },
        "nteract": {
          "transient": {
            "deleting": false
          }
        }
      }
    },
    {
      "cell_type": "code",
      "source": [
        "samples = d[d.C == 'R'].loc[:, ['LW', 'RW', 'LD', 'RD']].to_numpy()\n",
        "s = set([tuple(array) for array in samples])\n",
        "print('Sum of items:', len(s))\n",
        "# Looks like there are unique values for the Right class.\n",
        "\n",
        "#"
      ],
      "outputs": [],
      "execution_count": null,
      "metadata": {
        "collapsed": true,
        "outputExpanded": false,
        "jupyter": {
          "source_hidden": false,
          "outputs_hidden": false
        },
        "nteract": {
          "transient": {
            "deleting": false
          }
        }
      }
    },
    {
      "cell_type": "code",
      "source": [
        "# Let's see whether different classes share the same samples\n",
        "samples = d[d.C == 'B'].loc[:, ['LW', 'RW', 'LD', 'RD']].to_numpy()\n",
        "B_SET = set([tuple(array) for array in samples])\n",
        "\n",
        "samples = d[d.C == 'L'].loc[:, ['LW', 'RW', 'LD', 'RD']].to_numpy()\n",
        "L_SET = set([tuple(array) for array in samples])\n",
        "\n",
        "samples = d[d.C == 'R'].loc[:, ['LW', 'RW', 'LD', 'RD']].to_numpy()\n",
        "R_SET = set([tuple(array) for array in samples])\n",
        "\n",
        "#"
      ],
      "outputs": [],
      "execution_count": null,
      "metadata": {
        "collapsed": true,
        "outputExpanded": false,
        "jupyter": {
          "source_hidden": false,
          "outputs_hidden": false
        },
        "nteract": {
          "transient": {
            "deleting": false
          }
        }
      }
    },
    {
      "cell_type": "code",
      "source": [
        "# Intersection between left and right class\n",
        "print(len(L_SET & R_SET))\n",
        "\n",
        "#"
      ],
      "outputs": [],
      "execution_count": null,
      "metadata": {
        "collapsed": true,
        "outputExpanded": false,
        "jupyter": {
          "source_hidden": false,
          "outputs_hidden": false
        },
        "nteract": {
          "transient": {
            "deleting": false
          }
        }
      }
    },
    {
      "cell_type": "code",
      "source": [
        "# Intersection between left and balanced class\n",
        "print(len(L_SET & B_SET))\n",
        "\n",
        "#"
      ],
      "outputs": [],
      "execution_count": null,
      "metadata": {
        "collapsed": true,
        "outputExpanded": false,
        "jupyter": {
          "source_hidden": false,
          "outputs_hidden": false
        },
        "nteract": {
          "transient": {
            "deleting": false
          }
        }
      }
    },
    {
      "cell_type": "code",
      "source": [
        "# Intersection between balanced and right class\n",
        "print(len(B_SET & R_SET))\n",
        "\n",
        "#"
      ],
      "outputs": [],
      "execution_count": null,
      "metadata": {
        "collapsed": true,
        "outputExpanded": false,
        "jupyter": {
          "source_hidden": false,
          "outputs_hidden": false
        },
        "nteract": {
          "transient": {
            "deleting": false
          }
        }
      }
    },
    {
      "cell_type": "code",
      "source": [
        "# In the end, I think I could have just done this:\n",
        "d.duplicated(subset=['LW', 'RW', 'LD', 'RD']).describe()\n",
        "# The unique value is one, the top value is false and it has all the entries. Thus, no duplicates.\n",
        "\n",
        "#"
      ],
      "outputs": [],
      "execution_count": null,
      "metadata": {
        "collapsed": true,
        "outputExpanded": false,
        "jupyter": {
          "source_hidden": false,
          "outputs_hidden": false
        },
        "nteract": {
          "transient": {
            "deleting": false
          }
        }
      }
    },
    {
      "cell_type": "markdown",
      "source": [
        "After performing certain checks, I have the following thoughts:\n",
        "- The dataset doesn't have any noise since there are no duplicate samples that classes share with each other.\n",
        "- The range of values that exist for the balanced class indicates that the dataset represents multiple scales rather than one.\n",
        "\n",
        "The last point really make sense to me after rereading the dataset description.\n",
        "\n",
        "The description said that the dataset was generated to 'model psychological experiments' and there is a simple logic algorithm to determine which class of the balance is\n",
        "based on readings of weight and distance for each side.\n",
        "\n",
        "It means that the nature of dataset was to test algorithm's ability to train a model that would 'understand' or 'perceive' the logic for concluding classes correctly.\n",
        "\n",
        "It really explains why neural networks had the accuracy of 97% with low standard deviation since they learnt on mistakes and generalise the logic problem compared to\n",
        "other models.\n",
        "\n"
      ],
      "metadata": {
        "nteract": {
          "transient": {
            "deleting": false
          }
        }
      }
    },
    {
      "cell_type": "code",
      "source": [
        "#     ______                  __  _                ___\n",
        "#    /  _/ /____  _________ _/ /_(_)___  ____     |__ \\\n",
        "#    / // __/ _ \\/ ___/ __ `/ __/ / __ \\/ __ \\    __/ /\n",
        "#  _/ // /_/  __/ /  / /_/ / /_/ / /_/ / / / /   / __/\n",
        "# /___/\\__/\\___/_/   \\__,_/\\__/_/\\____/_/ /_/   /____/\n",
        "#\n",
        "\n",
        "#"
      ],
      "outputs": [],
      "execution_count": null,
      "metadata": {
        "collapsed": true,
        "outputExpanded": false,
        "jupyter": {
          "source_hidden": false,
          "outputs_hidden": false
        },
        "nteract": {
          "transient": {
            "deleting": false
          }
        }
      }
    },
    {
      "cell_type": "markdown",
      "source": [
        "After learning about the decision tree algorithms, I will try to engineer features that can help the algorithm to work better.\n",
        "\n",
        "The following comes to mind:\n",
        "1. Make two features to represent calculations for each side.\n",
        "2. Make three features to represent boolean values of left, right or balanced calculations. (i.e. make it look like a binary pattern like 1,0,0 for tipping to the left)\n",
        "3. Make a balanced dataset (i.e. Make an equal amount of examples for right and left classes since there are way more of them rather than balanced one).\n",
        "    1. Split it with all examples of the balanced class.\n",
        "    2. Split it with half examples of the balanced class.\n",
        "    3. Split it with one examples of the balanced class."
      ],
      "metadata": {
        "nteract": {
          "transient": {
            "deleting": false
          }
        }
      }
    }
  ],
  "metadata": {
    "kernelspec": {
      "argv": [
        "/home/pavel/.miniconda3/envs/scales/bin/python",
        "-m",
        "ipykernel_launcher",
        "-f",
        "{connection_file}"
      ],
      "display_name": "Python 3",
      "language": "python",
      "name": "python3"
    }
  },
  "nbformat": 4,
  "nbformat_minor": 0
}